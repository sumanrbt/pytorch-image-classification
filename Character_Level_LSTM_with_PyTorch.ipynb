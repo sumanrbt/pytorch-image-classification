{
  "nbformat": 4,
  "nbformat_minor": 0,
  "metadata": {
    "kernelspec": {
      "name": "python3",
      "display_name": "Python 3"
    },
    "language_info": {
      "codemirror_mode": {
        "name": "ipython",
        "version": 3
      },
      "file_extension": ".py",
      "mimetype": "text/x-python",
      "name": "python",
      "nbconvert_exporter": "python",
      "pygments_lexer": "ipython3",
      "version": "3.6.8"
    },
    "colab": {
      "name": "Character-Level LSTM with PyTorch.ipynb",
      "provenance": []
    },
    "accelerator": "GPU"
  },
  "cells": [
    {
      "cell_type": "code",
      "metadata": {
        "id": "QPx-7IhxjZgd",
        "colab_type": "code",
        "colab": {
          "base_uri": "https://localhost:8080/",
          "height": 124
        },
        "outputId": "62690493-9b2a-43e0-ec47-ca2e0511d805"
      },
      "source": [
        "from google.colab import drive\n",
        "drive.mount('/content/drive')"
      ],
      "execution_count": 2,
      "outputs": [
        {
          "output_type": "stream",
          "text": [
            "Go to this URL in a browser: https://accounts.google.com/o/oauth2/auth?client_id=947318989803-6bn6qk8qdgf4n4g3pfee6491hc0brc4i.apps.googleusercontent.com&redirect_uri=urn%3aietf%3awg%3aoauth%3a2.0%3aoob&response_type=code&scope=email%20https%3a%2f%2fwww.googleapis.com%2fauth%2fdocs.test%20https%3a%2f%2fwww.googleapis.com%2fauth%2fdrive%20https%3a%2f%2fwww.googleapis.com%2fauth%2fdrive.photos.readonly%20https%3a%2f%2fwww.googleapis.com%2fauth%2fpeopleapi.readonly\n",
            "\n",
            "Enter your authorization code:\n",
            "··········\n",
            "Mounted at /content/drive\n"
          ],
          "name": "stdout"
        }
      ]
    },
    {
      "cell_type": "code",
      "metadata": {
        "id": "z4hO6Ngoih3T",
        "colab_type": "code",
        "colab": {
          "base_uri": "https://localhost:8080/",
          "height": 384
        },
        "outputId": "b154a9fc-a328-4431-b2d4-cf44fa8f4982"
      },
      "source": [
        "\n",
        "!pip install torch"
      ],
      "execution_count": 3,
      "outputs": [
        {
          "output_type": "stream",
          "text": [
            "Requirement already satisfied: torch in /usr/local/lib/python3.6/dist-packages (1.3.1)\n",
            "Requirement already satisfied: numpy in /usr/local/lib/python3.6/dist-packages (from torch) (1.17.4)\n"
          ],
          "name": "stdout"
        },
        {
          "output_type": "error",
          "ename": "KeyboardInterrupt",
          "evalue": "ignored",
          "traceback": [
            "\u001b[0;31m---------------------------------------------------------------------------\u001b[0m",
            "\u001b[0;31mKeyboardInterrupt\u001b[0m                         Traceback (most recent call last)",
            "\u001b[0;32m<ipython-input-3-f74217622fd8>\u001b[0m in \u001b[0;36m<module>\u001b[0;34m()\u001b[0m\n\u001b[1;32m      1\u001b[0m \u001b[0;34m\u001b[0m\u001b[0m\n\u001b[0;32m----> 2\u001b[0;31m \u001b[0mget_ipython\u001b[0m\u001b[0;34m(\u001b[0m\u001b[0;34m)\u001b[0m\u001b[0;34m.\u001b[0m\u001b[0msystem\u001b[0m\u001b[0;34m(\u001b[0m\u001b[0;34m'pip install torch'\u001b[0m\u001b[0;34m)\u001b[0m\u001b[0;34m\u001b[0m\u001b[0;34m\u001b[0m\u001b[0m\n\u001b[0m",
            "\u001b[0;32m/usr/local/lib/python3.6/dist-packages/google/colab/_shell.py\u001b[0m in \u001b[0;36msystem\u001b[0;34m(self, *args, **kwargs)\u001b[0m\n\u001b[1;32m     94\u001b[0m       \u001b[0mkwargs\u001b[0m\u001b[0;34m.\u001b[0m\u001b[0mupdate\u001b[0m\u001b[0;34m(\u001b[0m\u001b[0;34m{\u001b[0m\u001b[0;34m'also_return_output'\u001b[0m\u001b[0;34m:\u001b[0m \u001b[0;32mTrue\u001b[0m\u001b[0;34m}\u001b[0m\u001b[0;34m)\u001b[0m\u001b[0;34m\u001b[0m\u001b[0;34m\u001b[0m\u001b[0m\n\u001b[1;32m     95\u001b[0m \u001b[0;34m\u001b[0m\u001b[0m\n\u001b[0;32m---> 96\u001b[0;31m     \u001b[0moutput\u001b[0m \u001b[0;34m=\u001b[0m \u001b[0m_system_commands\u001b[0m\u001b[0;34m.\u001b[0m\u001b[0m_system_compat\u001b[0m\u001b[0;34m(\u001b[0m\u001b[0mself\u001b[0m\u001b[0;34m,\u001b[0m \u001b[0;34m*\u001b[0m\u001b[0margs\u001b[0m\u001b[0;34m,\u001b[0m \u001b[0;34m**\u001b[0m\u001b[0mkwargs\u001b[0m\u001b[0;34m)\u001b[0m  \u001b[0;31m# pylint:disable=protected-access\u001b[0m\u001b[0;34m\u001b[0m\u001b[0;34m\u001b[0m\u001b[0m\n\u001b[0m\u001b[1;32m     97\u001b[0m \u001b[0;34m\u001b[0m\u001b[0m\n\u001b[1;32m     98\u001b[0m     \u001b[0;32mif\u001b[0m \u001b[0mpip_warn\u001b[0m\u001b[0;34m:\u001b[0m\u001b[0;34m\u001b[0m\u001b[0;34m\u001b[0m\u001b[0m\n",
            "\u001b[0;32m/usr/local/lib/python3.6/dist-packages/google/colab/_system_commands.py\u001b[0m in \u001b[0;36m_system_compat\u001b[0;34m(shell, cmd, also_return_output)\u001b[0m\n\u001b[1;32m    436\u001b[0m   \u001b[0;31m# stack.\u001b[0m\u001b[0;34m\u001b[0m\u001b[0;34m\u001b[0m\u001b[0;34m\u001b[0m\u001b[0m\n\u001b[1;32m    437\u001b[0m   result = _run_command(\n\u001b[0;32m--> 438\u001b[0;31m       shell.var_expand(cmd, depth=2), clear_streamed_output=False)\n\u001b[0m\u001b[1;32m    439\u001b[0m   \u001b[0mshell\u001b[0m\u001b[0;34m.\u001b[0m\u001b[0muser_ns\u001b[0m\u001b[0;34m[\u001b[0m\u001b[0;34m'_exit_code'\u001b[0m\u001b[0;34m]\u001b[0m \u001b[0;34m=\u001b[0m \u001b[0mresult\u001b[0m\u001b[0;34m.\u001b[0m\u001b[0mreturncode\u001b[0m\u001b[0;34m\u001b[0m\u001b[0;34m\u001b[0m\u001b[0m\n\u001b[1;32m    440\u001b[0m   \u001b[0;32mif\u001b[0m \u001b[0;34m-\u001b[0m\u001b[0mresult\u001b[0m\u001b[0;34m.\u001b[0m\u001b[0mreturncode\u001b[0m \u001b[0;32min\u001b[0m \u001b[0m_INTERRUPTED_SIGNALS\u001b[0m\u001b[0;34m:\u001b[0m\u001b[0;34m\u001b[0m\u001b[0;34m\u001b[0m\u001b[0m\n",
            "\u001b[0;32m/usr/local/lib/python3.6/dist-packages/google/colab/_system_commands.py\u001b[0m in \u001b[0;36m_run_command\u001b[0;34m(cmd, clear_streamed_output)\u001b[0m\n\u001b[1;32m    193\u001b[0m       \u001b[0mos\u001b[0m\u001b[0;34m.\u001b[0m\u001b[0mclose\u001b[0m\u001b[0;34m(\u001b[0m\u001b[0mchild_pty\u001b[0m\u001b[0;34m)\u001b[0m\u001b[0;34m\u001b[0m\u001b[0;34m\u001b[0m\u001b[0m\n\u001b[1;32m    194\u001b[0m \u001b[0;34m\u001b[0m\u001b[0m\n\u001b[0;32m--> 195\u001b[0;31m       \u001b[0;32mreturn\u001b[0m \u001b[0m_monitor_process\u001b[0m\u001b[0;34m(\u001b[0m\u001b[0mparent_pty\u001b[0m\u001b[0;34m,\u001b[0m \u001b[0mepoll\u001b[0m\u001b[0;34m,\u001b[0m \u001b[0mp\u001b[0m\u001b[0;34m,\u001b[0m \u001b[0mcmd\u001b[0m\u001b[0;34m,\u001b[0m \u001b[0mupdate_stdin_widget\u001b[0m\u001b[0;34m)\u001b[0m\u001b[0;34m\u001b[0m\u001b[0;34m\u001b[0m\u001b[0m\n\u001b[0m\u001b[1;32m    196\u001b[0m   \u001b[0;32mfinally\u001b[0m\u001b[0;34m:\u001b[0m\u001b[0;34m\u001b[0m\u001b[0;34m\u001b[0m\u001b[0m\n\u001b[1;32m    197\u001b[0m     \u001b[0mepoll\u001b[0m\u001b[0;34m.\u001b[0m\u001b[0mclose\u001b[0m\u001b[0;34m(\u001b[0m\u001b[0;34m)\u001b[0m\u001b[0;34m\u001b[0m\u001b[0;34m\u001b[0m\u001b[0m\n",
            "\u001b[0;32m/usr/lib/python3.6/contextlib.py\u001b[0m in \u001b[0;36m__exit__\u001b[0;34m(self, type, value, traceback)\u001b[0m\n\u001b[1;32m     86\u001b[0m         \u001b[0;32mif\u001b[0m \u001b[0mtype\u001b[0m \u001b[0;32mis\u001b[0m \u001b[0;32mNone\u001b[0m\u001b[0;34m:\u001b[0m\u001b[0;34m\u001b[0m\u001b[0;34m\u001b[0m\u001b[0m\n\u001b[1;32m     87\u001b[0m             \u001b[0;32mtry\u001b[0m\u001b[0;34m:\u001b[0m\u001b[0;34m\u001b[0m\u001b[0;34m\u001b[0m\u001b[0m\n\u001b[0;32m---> 88\u001b[0;31m                 \u001b[0mnext\u001b[0m\u001b[0;34m(\u001b[0m\u001b[0mself\u001b[0m\u001b[0;34m.\u001b[0m\u001b[0mgen\u001b[0m\u001b[0;34m)\u001b[0m\u001b[0;34m\u001b[0m\u001b[0;34m\u001b[0m\u001b[0m\n\u001b[0m\u001b[1;32m     89\u001b[0m             \u001b[0;32mexcept\u001b[0m \u001b[0mStopIteration\u001b[0m\u001b[0;34m:\u001b[0m\u001b[0;34m\u001b[0m\u001b[0;34m\u001b[0m\u001b[0m\n\u001b[1;32m     90\u001b[0m                 \u001b[0;32mreturn\u001b[0m \u001b[0;32mFalse\u001b[0m\u001b[0;34m\u001b[0m\u001b[0;34m\u001b[0m\u001b[0m\n",
            "\u001b[0;32m/usr/local/lib/python3.6/dist-packages/google/colab/_system_commands.py\u001b[0m in \u001b[0;36m_display_stdin_widget\u001b[0;34m(delay_millis)\u001b[0m\n\u001b[1;32m    353\u001b[0m \u001b[0;34m\u001b[0m\u001b[0m\n\u001b[1;32m    354\u001b[0m   \u001b[0mhide_args\u001b[0m \u001b[0;34m=\u001b[0m \u001b[0;34m[\u001b[0m\u001b[0;34m'cell_remove_stdin'\u001b[0m\u001b[0;34m,\u001b[0m \u001b[0;34m{\u001b[0m\u001b[0;34m}\u001b[0m\u001b[0;34m]\u001b[0m\u001b[0;34m\u001b[0m\u001b[0;34m\u001b[0m\u001b[0m\n\u001b[0;32m--> 355\u001b[0;31m   \u001b[0m_message\u001b[0m\u001b[0;34m.\u001b[0m\u001b[0mblocking_request\u001b[0m\u001b[0;34m(\u001b[0m\u001b[0;34m*\u001b[0m\u001b[0mhide_args\u001b[0m\u001b[0;34m,\u001b[0m \u001b[0mparent\u001b[0m\u001b[0;34m=\u001b[0m\u001b[0mshell\u001b[0m\u001b[0;34m.\u001b[0m\u001b[0mparent_header\u001b[0m\u001b[0;34m)\u001b[0m\u001b[0;34m\u001b[0m\u001b[0;34m\u001b[0m\u001b[0m\n\u001b[0m\u001b[1;32m    356\u001b[0m \u001b[0;34m\u001b[0m\u001b[0m\n\u001b[1;32m    357\u001b[0m \u001b[0;34m\u001b[0m\u001b[0m\n",
            "\u001b[0;32m/usr/local/lib/python3.6/dist-packages/google/colab/_message.py\u001b[0m in \u001b[0;36mblocking_request\u001b[0;34m(request_type, request, timeout_sec, parent)\u001b[0m\n\u001b[1;32m    169\u001b[0m   \u001b[0;31m# unique.\u001b[0m\u001b[0;34m\u001b[0m\u001b[0;34m\u001b[0m\u001b[0;34m\u001b[0m\u001b[0m\n\u001b[1;32m    170\u001b[0m   \u001b[0mrequest_id\u001b[0m \u001b[0;34m=\u001b[0m \u001b[0msend_request\u001b[0m\u001b[0;34m(\u001b[0m\u001b[0mrequest_type\u001b[0m\u001b[0;34m,\u001b[0m \u001b[0mrequest\u001b[0m\u001b[0;34m,\u001b[0m \u001b[0mparent\u001b[0m\u001b[0;34m=\u001b[0m\u001b[0mparent\u001b[0m\u001b[0;34m)\u001b[0m\u001b[0;34m\u001b[0m\u001b[0;34m\u001b[0m\u001b[0m\n\u001b[0;32m--> 171\u001b[0;31m   \u001b[0;32mreturn\u001b[0m \u001b[0mread_reply_from_input\u001b[0m\u001b[0;34m(\u001b[0m\u001b[0mrequest_id\u001b[0m\u001b[0;34m,\u001b[0m \u001b[0mtimeout_sec\u001b[0m\u001b[0;34m)\u001b[0m\u001b[0;34m\u001b[0m\u001b[0;34m\u001b[0m\u001b[0m\n\u001b[0m",
            "\u001b[0;32m/usr/local/lib/python3.6/dist-packages/google/colab/_message.py\u001b[0m in \u001b[0;36mread_reply_from_input\u001b[0;34m(message_id, timeout_sec)\u001b[0m\n\u001b[1;32m     99\u001b[0m     \u001b[0mreply\u001b[0m \u001b[0;34m=\u001b[0m \u001b[0m_read_next_input_message\u001b[0m\u001b[0;34m(\u001b[0m\u001b[0;34m)\u001b[0m\u001b[0;34m\u001b[0m\u001b[0;34m\u001b[0m\u001b[0m\n\u001b[1;32m    100\u001b[0m     \u001b[0;32mif\u001b[0m \u001b[0mreply\u001b[0m \u001b[0;34m==\u001b[0m \u001b[0m_NOT_READY\u001b[0m \u001b[0;32mor\u001b[0m \u001b[0;32mnot\u001b[0m \u001b[0misinstance\u001b[0m\u001b[0;34m(\u001b[0m\u001b[0mreply\u001b[0m\u001b[0;34m,\u001b[0m \u001b[0mdict\u001b[0m\u001b[0;34m)\u001b[0m\u001b[0;34m:\u001b[0m\u001b[0;34m\u001b[0m\u001b[0;34m\u001b[0m\u001b[0m\n\u001b[0;32m--> 101\u001b[0;31m       \u001b[0mtime\u001b[0m\u001b[0;34m.\u001b[0m\u001b[0msleep\u001b[0m\u001b[0;34m(\u001b[0m\u001b[0;36m0.025\u001b[0m\u001b[0;34m)\u001b[0m\u001b[0;34m\u001b[0m\u001b[0;34m\u001b[0m\u001b[0m\n\u001b[0m\u001b[1;32m    102\u001b[0m       \u001b[0;32mcontinue\u001b[0m\u001b[0;34m\u001b[0m\u001b[0;34m\u001b[0m\u001b[0m\n\u001b[1;32m    103\u001b[0m     if (reply.get('type') == 'colab_reply' and\n",
            "\u001b[0;31mKeyboardInterrupt\u001b[0m: "
          ]
        }
      ]
    },
    {
      "cell_type": "markdown",
      "metadata": {
        "id": "CVj_yP7kiP9W",
        "colab_type": "text"
      },
      "source": [
        "# Character-Level LSTM in PyTorch\n",
        "\n",
        "In this notebook, we will construct a character-level LSTM with PyTorch. The network will train character by character on some text, then generate new text character by character. As an example, we will train on Anna Karenina. **This model will be able to generate new text based on the text from the book!**\n",
        "\n",
        "This network is based off of Andrej Karpathy's [post on RNNs](http://karpathy.github.io/2015/05/21/rnn-effectiveness/) and [implementation in Torch](https://github.com/karpathy/char-rnn). Below is the general architecture of the character-wise RNN.\n",
        "\n",
        "<img src=\"https://github.com/LeanManager/NLP-PyTorch/blob/master/assets/charseq.jpeg?raw=1\" width=\"500\">"
      ]
    },
    {
      "cell_type": "markdown",
      "metadata": {
        "id": "eqFmiBq0iP9a",
        "colab_type": "text"
      },
      "source": [
        "First let's load in our required resources for data loading and model creation."
      ]
    },
    {
      "cell_type": "code",
      "metadata": {
        "id": "gcvxJdEdiP9d",
        "colab_type": "code",
        "colab": {}
      },
      "source": [
        "import numpy as np\n",
        "import torch\n",
        "from torch import nn\n",
        "import torch.nn.functional as F\n"
      ],
      "execution_count": 0,
      "outputs": []
    },
    {
      "cell_type": "markdown",
      "metadata": {
        "id": "esS4sW3qiP9i",
        "colab_type": "text"
      },
      "source": [
        "## Load in Data\n",
        "\n",
        "Then, we'll load the Anna Karenina text file and convert it into integers for our network to use. \n",
        "\n",
        "### Tokenization\n",
        "\n",
        "In the second cell, below, I'm creating a couple **dictionaries** to convert the characters to and from integers. Encoding the characters as integers makes it easier to use as input in the network."
      ]
    },
    {
      "cell_type": "code",
      "metadata": {
        "id": "gSactwxUiP9i",
        "colab_type": "code",
        "colab": {}
      },
      "source": [
        "# open text file and read in data as `text`\n",
        "with open('/content/drive/My Drive/RNN/anna.txt', 'r') as f:\n",
        "    text = f.read()"
      ],
      "execution_count": 0,
      "outputs": []
    },
    {
      "cell_type": "markdown",
      "metadata": {
        "id": "x13cdVHciP9k",
        "colab_type": "text"
      },
      "source": [
        "Now we have the text, encode it as integers."
      ]
    },
    {
      "cell_type": "code",
      "metadata": {
        "id": "NXocybj7iP9l",
        "colab_type": "code",
        "colab": {}
      },
      "source": [
        "# encode the text and map each character to an integer and vice versa\n",
        "\n",
        "# we create two dictonaries:\n",
        "# 1. int2char, which maps integers to characters\n",
        "# 2. char2int, which maps characters to unique integers\n",
        "\n",
        "chars = tuple(set(text))\n",
        "\n",
        "int2char = dict(enumerate(chars))\n",
        "\n",
        "char2int = {ch: ii for ii, ch in int2char.items()}\n",
        "\n",
        "encoded = np.array([char2int[ch] for ch in text])"
      ],
      "execution_count": 0,
      "outputs": []
    },
    {
      "cell_type": "markdown",
      "metadata": {
        "id": "0HTKiZZNiP9n",
        "colab_type": "text"
      },
      "source": [
        "Let's check out the first 100 characters, make sure everything is peachy. According to the [American Book Review](http://americanbookreview.org/100bestlines.asp), this is the 6th best first line of a book ever."
      ]
    },
    {
      "cell_type": "code",
      "metadata": {
        "id": "f1pt7_4ViP9o",
        "colab_type": "code",
        "colab": {
          "base_uri": "https://localhost:8080/",
          "height": 55
        },
        "outputId": "7077dc68-9fe1-4290-e6d6-211ed9500cb9"
      },
      "source": [
        "text[:100]"
      ],
      "execution_count": 7,
      "outputs": [
        {
          "output_type": "execute_result",
          "data": {
            "text/plain": [
              "'Chapter 1\\n\\n\\nHappy families are all alike; every unhappy family is unhappy in its own\\nway.\\n\\nEverythin'"
            ]
          },
          "metadata": {
            "tags": []
          },
          "execution_count": 7
        }
      ]
    },
    {
      "cell_type": "markdown",
      "metadata": {
        "id": "rM-P9CBhiP9r",
        "colab_type": "text"
      },
      "source": [
        "And we can see those same characters encoded as integers."
      ]
    },
    {
      "cell_type": "code",
      "metadata": {
        "id": "G9VrsPgviP9s",
        "colab_type": "code",
        "colab": {
          "base_uri": "https://localhost:8080/",
          "height": 121
        },
        "outputId": "3c1b3f2b-fc16-437f-816d-dcd4d8f5cc2b"
      },
      "source": [
        "encoded[:100]"
      ],
      "execution_count": 8,
      "outputs": [
        {
          "output_type": "execute_result",
          "data": {
            "text/plain": [
              "array([ 3,  9, 40,  4, 22, 70, 65, 20, 75,  7,  7,  7, 73, 40,  4,  4, 10,\n",
              "       20,  0, 40, 74, 46, 67, 46, 70, 38, 20, 40, 65, 70, 20, 40, 67, 67,\n",
              "       20, 40, 67, 46, 32, 70, 50, 20, 70, 21, 70, 65, 10, 20,  8, 18,  9,\n",
              "       40,  4,  4, 10, 20,  0, 40, 74, 46, 67, 10, 20, 46, 38, 20,  8, 18,\n",
              "        9, 40,  4,  4, 10, 20, 46, 18, 20, 46, 22, 38, 20, 81, 13, 18,  7,\n",
              "       13, 40, 10, 71,  7,  7, 58, 21, 70, 65, 10, 22,  9, 46, 18])"
            ]
          },
          "metadata": {
            "tags": []
          },
          "execution_count": 8
        }
      ]
    },
    {
      "cell_type": "markdown",
      "metadata": {
        "id": "LhxPKYuViP9v",
        "colab_type": "text"
      },
      "source": [
        "## Pre-processing the data\n",
        "\n",
        "As you can see in our char-RNN image above, our LSTM expects an input that is **one-hot encoded** meaning that each character is converted into an intgere (via our created dictionary) and *then* converted into a column vector where only it's corresponsing integer index will have the value of 1 and the rest of the vector will be filled with 0's. Since we're one-hot encoding the data, let's make a function to do that!\n"
      ]
    },
    {
      "cell_type": "code",
      "metadata": {
        "id": "AwIPo8I_iP9w",
        "colab_type": "code",
        "colab": {}
      },
      "source": [
        "def one_hot_encode(arr, n_labels):\n",
        "    \n",
        "    # Initialize the the encoded array\n",
        "    one_hot = np.zeros((np.multiply(*arr.shape), n_labels), dtype=np.float32)\n",
        "    \n",
        "    # Fill the appropriate elements with ones\n",
        "    one_hot[np.arange(one_hot.shape[0]), arr.flatten()] = 1.\n",
        "    \n",
        "    # Finally reshape it to get back to the original array\n",
        "    one_hot = one_hot.reshape((*arr.shape, n_labels))\n",
        "    \n",
        "    return one_hot"
      ],
      "execution_count": 0,
      "outputs": []
    },
    {
      "cell_type": "markdown",
      "metadata": {
        "id": "GmcCn3-riP9y",
        "colab_type": "text"
      },
      "source": [
        "## Making training mini-batches\n",
        "\n",
        "\n",
        "To train on this data, we also want to create mini-batches for training. Remember that we want our batches to be multiple sequences of some desired number of sequence steps. Considering a simple example, our batches would look like this:\n",
        "\n",
        "<img src=\"https://github.com/LeanManager/NLP-PyTorch/blob/master/assets/sequence_batching@1x.png?raw=1\" width=500px>\n",
        "\n",
        "\n",
        "<br>\n",
        "\n",
        "In this example, we'll take the encoded characters (passed in as the `arr` parameter) and split them into multiple sequences, given by `n_seqs` (also refered to as \"batch size\" in other places). Each of those sequences will be `n_steps` long.\n",
        "\n",
        "### Creating Batches\n",
        "\n",
        "**1. The first thing we need to do is discard some of the text so we only have completely full batches. **\n",
        "\n",
        "Each batch contains $N \\times M$ characters, where $N$ is the batch size (the number of sequences) and $M$ is the number of steps. Then, to get the total number of batches, $K$, we can make from the array `arr`, you divide the length of `arr` by the number of characters per batch. Once you know the number of batches, you can get the total number of characters to keep from `arr`, $N * M * K$.\n",
        "\n",
        "**2. After that, we need to split `arr` into $N$ sequences. ** \n",
        "\n",
        "You can do this using `arr.reshape(size)` where `size` is a tuple containing the dimensions sizes of the reshaped array. We know we want $N$ sequences, so let's make that the size of the first dimension. For the second dimension, you can use `-1` as a placeholder in the size, it'll fill up the array with the appropriate data for you. After this, you should have an array that is $N \\times (M * K)$.\n",
        "\n",
        "**3. Now that we have this array, we can iterate through it to get our batches. **\n",
        "\n",
        "The idea is each batch is a $N \\times M$ window on the $N \\times (M * K)$ array. For each subsequent batch, the window moves over by `n_steps`. We also want to create both the input and target arrays. Remember that the targets are the inputs shifted over one character. The way I like to do this window is use `range` to take steps of size `n_steps` from $0$ to `arr.shape[1]`, the total number of steps in each sequence. That way, the integers you get from `range` always point to the start of a batch, and each window is `n_steps` wide."
      ]
    },
    {
      "cell_type": "code",
      "metadata": {
        "id": "BiOHDmvfiP9z",
        "colab_type": "code",
        "colab": {}
      },
      "source": [
        "def get_batches(arr, n_seqs, n_steps):\n",
        "    '''Create a generator that returns batches of size\n",
        "       n_seqs x n_steps from arr.\n",
        "       \n",
        "       Arguments\n",
        "       ---------\n",
        "       arr: Array you want to make batches from\n",
        "       n_seqs: Batch size, the number of sequences per batch\n",
        "       n_steps: Number of sequence steps per batch\n",
        "    '''\n",
        "    \n",
        "    batch_size = n_seqs * n_steps\n",
        "    n_batches = len(arr)//batch_size\n",
        "    \n",
        "    # Keep only enough characters to make full batches\n",
        "    arr = arr[:n_batches * batch_size]\n",
        "    \n",
        "    # Reshape into n_seqs rows\n",
        "    arr = arr.reshape((n_seqs, -1))\n",
        "    \n",
        "    for n in range(0, arr.shape[1], n_steps):\n",
        "        \n",
        "        # The features\n",
        "        x = arr[:, n:n+n_steps]\n",
        "        \n",
        "        # The targets, shifted by one\n",
        "        y = np.zeros_like(x)\n",
        "        \n",
        "        try:\n",
        "            y[:, :-1], y[:, -1] = x[:, 1:], arr[:, n+n_steps]\n",
        "        except IndexError:\n",
        "            y[:, :-1], y[:, -1] = x[:, 1:], arr[:, 0]\n",
        "        yield x, y"
      ],
      "execution_count": 0,
      "outputs": []
    },
    {
      "cell_type": "markdown",
      "metadata": {
        "id": "3qha9FnaiP91",
        "colab_type": "text"
      },
      "source": [
        "### Test Your Implementation\n",
        "\n",
        "Now I'll make some data sets and we can check out what's going on as we batch data. Here, as an example, I'm going to use a batch size of 10 and 50 sequence steps."
      ]
    },
    {
      "cell_type": "code",
      "metadata": {
        "id": "YSdlnB8miP91",
        "colab_type": "code",
        "colab": {}
      },
      "source": [
        "batches = get_batches(encoded, 10, 50)\n",
        "x, y = next(batches)"
      ],
      "execution_count": 0,
      "outputs": []
    },
    {
      "cell_type": "code",
      "metadata": {
        "id": "3yRZa_DliP94",
        "colab_type": "code",
        "colab": {
          "base_uri": "https://localhost:8080/",
          "height": 416
        },
        "outputId": "46740dae-51db-4deb-ad10-4cfe5f009562"
      },
      "source": [
        "print('x\\n', x[:10, :10])\n",
        "print('\\ny\\n', y[:10, :10])"
      ],
      "execution_count": 12,
      "outputs": [
        {
          "output_type": "stream",
          "text": [
            "x\n",
            " [[ 3  9 40  4 22 70 65 20 75  7]\n",
            " [20 40 74 20 18 81 22 20 61 81]\n",
            " [21 46 18 71  7  7 12 19 70 38]\n",
            " [18 20 11  8 65 46 18 61 20  9]\n",
            " [20 46 22 20 46 38 82 20 38 46]\n",
            " [20 34 22 20 13 40 38  7 81 18]\n",
            " [ 9 70 18 20 52 81 74 70 20  0]\n",
            " [50 20 55  8 22 20 18 81 13 20]\n",
            " [22 20 46 38 18 41 22 71 20 62]\n",
            " [20 38 40 46 11 20 22 81 20  9]]\n",
            "\n",
            "y\n",
            " [[ 9 40  4 22 70 65 20 75  7  7]\n",
            " [40 74 20 18 81 22 20 61 81 46]\n",
            " [46 18 71  7  7 12 19 70 38 82]\n",
            " [20 11  8 65 46 18 61 20  9 46]\n",
            " [46 22 20 46 38 82 20 38 46 65]\n",
            " [34 22 20 13 40 38  7 81 18 67]\n",
            " [70 18 20 52 81 74 70 20  0 81]\n",
            " [20 55  8 22 20 18 81 13 20 38]\n",
            " [20 46 38 18 41 22 71 20 62  9]\n",
            " [38 40 46 11 20 22 81 20  9 70]]\n"
          ],
          "name": "stdout"
        }
      ]
    },
    {
      "cell_type": "markdown",
      "metadata": {
        "id": "Ue6Xhwm_iP96",
        "colab_type": "text"
      },
      "source": [
        "If you implemented `get_batches` correctly, the above output should look something like \n",
        "```\n",
        "x\n",
        " [[55 63 69 22  6 76 45  5 16 35]\n",
        " [ 5 69  1  5 12 52  6  5 56 52]\n",
        " [48 29 12 61 35 35  8 64 76 78]\n",
        " [12  5 24 39 45 29 12 56  5 63]\n",
        " [ 5 29  6  5 29 78 28  5 78 29]\n",
        " [ 5 13  6  5 36 69 78 35 52 12]\n",
        " [63 76 12  5 18 52  1 76  5 58]\n",
        " [34  5 73 39  6  5 12 52 36  5]\n",
        " [ 6  5 29 78 12 79  6 61  5 59]\n",
        " [ 5 78 69 29 24  5  6 52  5 63]]\n",
        "\n",
        "y\n",
        " [[63 69 22  6 76 45  5 16 35 35]\n",
        " [69  1  5 12 52  6  5 56 52 29]\n",
        " [29 12 61 35 35  8 64 76 78 28]\n",
        " [ 5 24 39 45 29 12 56  5 63 29]\n",
        " [29  6  5 29 78 28  5 78 29 45]\n",
        " [13  6  5 36 69 78 35 52 12 43]\n",
        " [76 12  5 18 52  1 76  5 58 52]\n",
        " [ 5 73 39  6  5 12 52 36  5 78]\n",
        " [ 5 29 78 12 79  6 61  5 59 63]\n",
        " [78 69 29 24  5  6 52  5 63 76]]\n",
        " ```\n",
        " although the exact numbers will be different. Check to make sure the data is shifted over one step for `y`."
      ]
    },
    {
      "cell_type": "markdown",
      "metadata": {
        "id": "F26eoOIpiP97",
        "colab_type": "text"
      },
      "source": [
        "---\n",
        "## Defining the network with PyTorch\n",
        "\n",
        "Below is where you'll define the network. We'll break it up into parts so it's easier to reason about each bit. Then we can connect them up into the whole network.\n",
        "\n",
        "<img src=\"https://github.com/LeanManager/NLP-PyTorch/blob/master/assets/charRNN.png?raw=1\" width=500px>\n",
        "\n",
        "Next, you'll use PyTorch to define the architecture of the network. We start by defining the layers and operations we want. Then, define a method for the forward pass. You've also been given a method for predicting characters."
      ]
    },
    {
      "cell_type": "markdown",
      "metadata": {
        "id": "FrR-LXP1iP97",
        "colab_type": "text"
      },
      "source": [
        "### Model Structure\n",
        "\n",
        "In `__init__` the suggested structure is as follows:\n",
        "* Create and store the necessary dictionaries (this has been done for you)\n",
        "* Define an LSTM layer that takes as params: an input size (the number of characters), a hidden layer size `n_hidden`, a number of layers `n_layers`, a dropout probability `drop_prob`, and a batch_first boolean (True, since we are batching)\n",
        "* Define a dropout layer with `dropout_prob`\n",
        "* Define a fully-connected layer with params: input size `n_hidden` and output size (the number of characters)\n",
        "* Finally, initialize the weights (again, this has been given)\n",
        "\n",
        "Note that some parameters have been named and given in the `__init__` function, and we use them and store them by doing something like `self.drop_prob = drop_prob`."
      ]
    },
    {
      "cell_type": "markdown",
      "metadata": {
        "id": "vAC-ctItiP98",
        "colab_type": "text"
      },
      "source": [
        "---\n",
        "### LSTM Inputs/Outputs\n",
        "\n",
        "You can create a basic LSTM cell as follows\n",
        "\n",
        "```python\n",
        "self.lstm = nn.LSTM(input_size, n_hidden, n_layers, \n",
        "                            dropout=drop_prob, batch_first=True)\n",
        "```\n",
        "\n",
        "where `input_size` is the number of characters this cell expects to see as sequential input, and `n_hidden` is the number of units in the hidden layers in the cell. And we can add dropout by adding a dropout parameter with a specified probability; this will automatically add dropout to the inputs or outputs. Finally, in the `forward` function, we can stack up the LSTM cells into layers using `.view`. With this, you pass in a list of cells and it will send the output of one cell into the next cell.\n",
        "\n",
        "We also need to create an initial cell state of all zeros. This is done like so\n",
        "\n",
        "```python\n",
        "self.init_weights()\n",
        "```"
      ]
    },
    {
      "cell_type": "code",
      "metadata": {
        "id": "HGDrj7rDiP99",
        "colab_type": "code",
        "colab": {}
      },
      "source": [
        "class CharRNN(nn.Module):\n",
        "    \n",
        "    def __init__(self, tokens, n_steps=100, n_hidden=256, n_layers=2,\n",
        "                               drop_prob=0.5, lr=0.001):\n",
        "        super().__init__()\n",
        "        self.drop_prob = drop_prob\n",
        "        self.n_layers = n_layers\n",
        "        self.n_hidden = n_hidden\n",
        "        self.lr = lr\n",
        "        \n",
        "        # Creating character dictionaries\n",
        "        self.chars = tokens\n",
        "        self.int2char = dict(enumerate(self.chars))\n",
        "        self.char2int = {ch: ii for ii, ch in self.int2char.items()}\n",
        "        \n",
        "        ## Define the LSTM\n",
        "        self.lstm = nn.LSTM(len(self.chars), n_hidden, n_layers, \n",
        "                            dropout=drop_prob, batch_first=True)\n",
        "        \n",
        "        ## Define a dropout layer\n",
        "        self.dropout = nn.Dropout(drop_prob)\n",
        "        \n",
        "        ## Define the final, fully-connected output layer\n",
        "        self.fc = nn.Linear(n_hidden, len(self.chars))\n",
        "        \n",
        "        # Initialize the weights\n",
        "        self.init_weights()\n",
        "      \n",
        "    \n",
        "    def forward(self, x, hc):\n",
        "        ''' Forward pass through the network. \n",
        "            These inputs are x, and the hidden/cell state `hc`. '''\n",
        "        \n",
        "        ## Get x, and the new hidden state (h, c) from the lstm\n",
        "        x, (h, c) = self.lstm(x, hc)\n",
        "        \n",
        "        ## Ppass x through the dropout layer\n",
        "        x = self.dropout(x)\n",
        "        \n",
        "        # Stack up LSTM outputs using view\n",
        "        x = x.view(x.size()[0]*x.size()[1], self.n_hidden)\n",
        "        \n",
        "        ## Put x through the fully-connected layer\n",
        "        x = self.fc(x)\n",
        "        \n",
        "        # Return x and the hidden state (h, c)\n",
        "        return x, (h, c)\n",
        "    \n",
        "    \n",
        "    def predict(self, char, h=None, cuda=False, top_k=None):\n",
        "        ''' Given a character, predict the next character.\n",
        "        \n",
        "            Returns the predicted character and the hidden state.\n",
        "        '''\n",
        "        if cuda:\n",
        "            self.cuda()\n",
        "        else:\n",
        "            self.cpu()\n",
        "        \n",
        "        if h is None:\n",
        "            h = self.init_hidden(1)\n",
        "        \n",
        "        x = np.array([[self.char2int[char]]])\n",
        "        x = one_hot_encode(x, len(self.chars))\n",
        "        \n",
        "        inputs = torch.from_numpy(x)\n",
        "        \n",
        "        if cuda:\n",
        "            inputs = inputs.cuda()\n",
        "        \n",
        "        h = tuple([each.data for each in h])\n",
        "        out, h = self.forward(inputs, h)\n",
        "\n",
        "        p = F.softmax(out, dim=1).data\n",
        "        \n",
        "        if cuda:\n",
        "            p = p.cpu()\n",
        "        \n",
        "        if top_k is None:\n",
        "            top_ch = np.arange(len(self.chars))\n",
        "        else:\n",
        "            p, top_ch = p.topk(top_k)\n",
        "            top_ch = top_ch.numpy().squeeze()\n",
        "        \n",
        "        p = p.numpy().squeeze()\n",
        "        \n",
        "        char = np.random.choice(top_ch, p=p/p.sum())\n",
        "            \n",
        "        return self.int2char[char], h\n",
        "    \n",
        "    def init_weights(self):\n",
        "        ''' Initialize weights for fully connected layer '''\n",
        "        initrange = 0.1\n",
        "        \n",
        "        # Set bias tensor to all zeros\n",
        "        self.fc.bias.data.fill_(0)\n",
        "        # FC weights as random uniform\n",
        "        self.fc.weight.data.uniform_(-1, 1)\n",
        "        \n",
        "    def init_hidden(self, n_seqs):\n",
        "        ''' Initializes hidden state '''\n",
        "        # Create two new tensors with sizes n_layers x n_seqs x n_hidden,\n",
        "        # initialized to zero, for hidden state and cell state of LSTM\n",
        "        weight = next(self.parameters()).data\n",
        "        return (weight.new(self.n_layers, n_seqs, self.n_hidden).zero_(),\n",
        "                weight.new(self.n_layers, n_seqs, self.n_hidden).zero_())\n",
        "        "
      ],
      "execution_count": 0,
      "outputs": []
    },
    {
      "cell_type": "markdown",
      "metadata": {
        "id": "qyBa8N6AiP-B",
        "colab_type": "text"
      },
      "source": [
        "### A note on the `predict`  function\n",
        "\n",
        "The output of our RNN is from a fully-connected layer and it outputs a **distribution of next-character scores**.\n",
        "\n",
        "To actually get the next character, we apply a softmax function, which gives us a *probability* distribution that we can then sample to predict the next character."
      ]
    },
    {
      "cell_type": "code",
      "metadata": {
        "id": "EUPJElkEiP-B",
        "colab_type": "code",
        "colab": {}
      },
      "source": [
        "def train(net, data, epochs=10, n_seqs=10, n_steps=50, lr=0.001, clip=5, val_frac=0.1, cuda=False, print_every=10):\n",
        "    ''' Training a network \n",
        "    \n",
        "        Arguments\n",
        "        ---------\n",
        "        \n",
        "        net: CharRNN network\n",
        "        data: text data to train the network\n",
        "        epochs: Number of epochs to train\n",
        "        n_seqs: Number of mini-sequences per mini-batch, aka batch size\n",
        "        n_steps: Number of character steps per mini-batch\n",
        "        lr: learning rate\n",
        "        clip: gradient clipping\n",
        "        val_frac: Fraction of data to hold out for validation\n",
        "        cuda: Train with CUDA on a GPU\n",
        "        print_every: Number of steps for printing training and validation loss\n",
        "    \n",
        "    '''\n",
        "    \n",
        "    net.train()\n",
        "    \n",
        "    opt = torch.optim.Adam(net.parameters(), lr=lr)\n",
        "    \n",
        "    criterion = nn.CrossEntropyLoss()\n",
        "    \n",
        "    # create training and validation data\n",
        "    val_idx = int(len(data)*(1-val_frac))\n",
        "    data, val_data = data[:val_idx], data[val_idx:]\n",
        "    \n",
        "    if cuda:\n",
        "        net.cuda()\n",
        "    \n",
        "    counter = 0\n",
        "    n_chars = len(net.chars)\n",
        "    \n",
        "    for e in range(epochs):\n",
        "        \n",
        "        h = net.init_hidden(n_seqs)\n",
        "        \n",
        "        for x, y in get_batches(data, n_seqs, n_steps):\n",
        "            \n",
        "            counter += 1\n",
        "            \n",
        "            # One-hot encode our data and make them Torch tensors\n",
        "            x = one_hot_encode(x, n_chars)\n",
        "            inputs, targets = torch.from_numpy(x), torch.from_numpy(y)\n",
        "            \n",
        "            if cuda:\n",
        "                inputs, targets = inputs.cuda(), targets.cuda()\n",
        "\n",
        "            # Creating new variables for the hidden state, otherwise\n",
        "            # we'd backprop through the entire training history\n",
        "            h = tuple([each.data for each in h])\n",
        "\n",
        "            net.zero_grad()\n",
        "            \n",
        "            output, h = net.forward(inputs, h)\n",
        "            \n",
        "            loss = criterion(output, targets.view(n_seqs*n_steps).type(torch.cuda.LongTensor))\n",
        "\n",
        "            loss.backward()\n",
        "            \n",
        "            # `clip_grad_norm` helps prevent the exploding gradient problem in RNNs / LSTMs.\n",
        "            nn.utils.clip_grad_norm_(net.parameters(), clip)\n",
        "\n",
        "            opt.step()\n",
        "            \n",
        "            if counter % print_every == 0:\n",
        "                \n",
        "                # Get validation loss\n",
        "                val_h = net.init_hidden(n_seqs)\n",
        "                val_losses = []\n",
        "                \n",
        "                for x, y in get_batches(val_data, n_seqs, n_steps):\n",
        "                    \n",
        "                    # One-hot encode our data and make them Torch tensors\n",
        "                    x = one_hot_encode(x, n_chars)\n",
        "                    x, y = torch.from_numpy(x), torch.from_numpy(y)\n",
        "                    \n",
        "                    # Creating new variables for the hidden state, otherwise\n",
        "                    # we'd backprop through the entire training history\n",
        "                    val_h = tuple([each.data for each in val_h])\n",
        "                    \n",
        "                    inputs, targets = x, y\n",
        "                    if cuda:\n",
        "                        inputs, targets = inputs.cuda(), targets.cuda()\n",
        "\n",
        "                    output, val_h = net.forward(inputs, val_h)\n",
        "                    val_loss = criterion(output, targets.view(n_seqs*n_steps).type(torch.cuda.LongTensor))\n",
        "                \n",
        "                    val_losses.append(val_loss.item())\n",
        "                \n",
        "                print(\"Epoch: {}/{}...\".format(e+1, epochs),\n",
        "                      \"Step: {}...\".format(counter),\n",
        "                      \"Loss: {:.4f}...\".format(loss.item()),\n",
        "                      \"Val Loss: {:.4f}\".format(np.mean(val_losses)))"
      ],
      "execution_count": 0,
      "outputs": []
    },
    {
      "cell_type": "markdown",
      "metadata": {
        "id": "3zj14BXfiP-F",
        "colab_type": "text"
      },
      "source": [
        "## Time to train\n",
        "\n",
        "Now we can actually train the network. First we'll create the network itself, with some given hyperparameters. Then, define the mini-batches sizes (number of sequences and number of steps), and start the training. With the train function, we can set the number of epochs, the learning rate, and other parameters. Also, we can run the training on a GPU by setting `cuda=True`."
      ]
    },
    {
      "cell_type": "code",
      "metadata": {
        "id": "SHGkGeOviP-G",
        "colab_type": "code",
        "colab": {}
      },
      "source": [
        "if 'net' in locals():\n",
        "    del net"
      ],
      "execution_count": 0,
      "outputs": []
    },
    {
      "cell_type": "code",
      "metadata": {
        "id": "vBVnacM1iP-I",
        "colab_type": "code",
        "colab": {
          "base_uri": "https://localhost:8080/",
          "height": 104
        },
        "outputId": "f70abd3c-70e2-4f62-c3b1-ebbafd0a5e9e"
      },
      "source": [
        "# Initialize and print the network\n",
        "net = CharRNN(chars, n_hidden=512, n_layers=2)\n",
        "\n",
        "print(net)"
      ],
      "execution_count": 16,
      "outputs": [
        {
          "output_type": "stream",
          "text": [
            "CharRNN(\n",
            "  (lstm): LSTM(83, 512, num_layers=2, batch_first=True, dropout=0.5)\n",
            "  (dropout): Dropout(p=0.5, inplace=False)\n",
            "  (fc): Linear(in_features=512, out_features=83, bias=True)\n",
            ")\n"
          ],
          "name": "stdout"
        }
      ]
    },
    {
      "cell_type": "code",
      "metadata": {
        "scrolled": true,
        "id": "GirI8NlaiP-L",
        "colab_type": "code",
        "colab": {
          "base_uri": "https://localhost:8080/",
          "height": 1000
        },
        "outputId": "553baf24-6d98-4d51-e396-6b83f89969bd"
      },
      "source": [
        "n_seqs, n_steps = 128, 100\n",
        "\n",
        "train(net, encoded, epochs=25, n_seqs=n_seqs, n_steps=n_steps, lr=0.001, cuda=True, print_every=10)"
      ],
      "execution_count": 0,
      "outputs": [
        {
          "output_type": "stream",
          "text": [
            "Epoch: 1/25... Step: 10... Loss: 3.3053... Val Loss: 3.3116\n",
            "Epoch: 1/25... Step: 20... Loss: 3.1873... Val Loss: 3.2014\n",
            "Epoch: 1/25... Step: 30... Loss: 3.0913... Val Loss: 3.0790\n",
            "Epoch: 1/25... Step: 40... Loss: 2.9003... Val Loss: 2.9124\n",
            "Epoch: 1/25... Step: 50... Loss: 2.7846... Val Loss: 2.7324\n",
            "Epoch: 1/25... Step: 60... Loss: 2.6164... Val Loss: 2.6239\n",
            "Epoch: 1/25... Step: 70... Loss: 2.5329... Val Loss: 2.5512\n",
            "Epoch: 1/25... Step: 80... Loss: 2.4679... Val Loss: 2.5004\n",
            "Epoch: 1/25... Step: 90... Loss: 2.4461... Val Loss: 2.4564\n",
            "Epoch: 1/25... Step: 100... Loss: 2.3842... Val Loss: 2.4220\n",
            "Epoch: 1/25... Step: 110... Loss: 2.3448... Val Loss: 2.3908\n",
            "Epoch: 1/25... Step: 120... Loss: 2.2808... Val Loss: 2.3606\n",
            "Epoch: 1/25... Step: 130... Loss: 2.3080... Val Loss: 2.3589\n",
            "Epoch: 2/25... Step: 140... Loss: 2.2654... Val Loss: 2.3163\n",
            "Epoch: 2/25... Step: 150... Loss: 2.2351... Val Loss: 2.2806\n",
            "Epoch: 2/25... Step: 160... Loss: 2.2356... Val Loss: 2.2559\n",
            "Epoch: 2/25... Step: 170... Loss: 2.1924... Val Loss: 2.2348\n",
            "Epoch: 2/25... Step: 180... Loss: 2.1440... Val Loss: 2.2213\n",
            "Epoch: 2/25... Step: 190... Loss: 2.0894... Val Loss: 2.1948\n",
            "Epoch: 2/25... Step: 200... Loss: 2.0825... Val Loss: 2.1719\n",
            "Epoch: 2/25... Step: 210... Loss: 2.0938... Val Loss: 2.1471\n",
            "Epoch: 2/25... Step: 220... Loss: 2.0445... Val Loss: 2.1384\n",
            "Epoch: 2/25... Step: 230... Loss: 2.0624... Val Loss: 2.1140\n",
            "Epoch: 2/25... Step: 240... Loss: 2.0346... Val Loss: 2.1022\n",
            "Epoch: 2/25... Step: 250... Loss: 1.9809... Val Loss: 2.0767\n",
            "Epoch: 2/25... Step: 260... Loss: 1.9536... Val Loss: 2.0584\n",
            "Epoch: 2/25... Step: 270... Loss: 1.9847... Val Loss: 2.0472\n",
            "Epoch: 3/25... Step: 280... Loss: 1.9709... Val Loss: 2.0296\n",
            "Epoch: 3/25... Step: 290... Loss: 1.9617... Val Loss: 2.0167\n",
            "Epoch: 3/25... Step: 300... Loss: 1.9273... Val Loss: 2.0016\n",
            "Epoch: 3/25... Step: 310... Loss: 1.9141... Val Loss: 1.9908\n",
            "Epoch: 3/25... Step: 320... Loss: 1.8740... Val Loss: 1.9834\n",
            "Epoch: 3/25... Step: 330... Loss: 1.8709... Val Loss: 1.9724\n",
            "Epoch: 3/25... Step: 340... Loss: 1.9156... Val Loss: 1.9641\n",
            "Epoch: 3/25... Step: 350... Loss: 1.8580... Val Loss: 1.9464\n",
            "Epoch: 3/25... Step: 360... Loss: 1.8116... Val Loss: 1.9354\n",
            "Epoch: 3/25... Step: 370... Loss: 1.8379... Val Loss: 1.9281\n",
            "Epoch: 3/25... Step: 380... Loss: 1.8398... Val Loss: 1.9172\n",
            "Epoch: 3/25... Step: 390... Loss: 1.8159... Val Loss: 1.9035\n",
            "Epoch: 3/25... Step: 400... Loss: 1.7873... Val Loss: 1.8942\n",
            "Epoch: 3/25... Step: 410... Loss: 1.8032... Val Loss: 1.8887\n",
            "Epoch: 4/25... Step: 420... Loss: 1.8012... Val Loss: 1.8768\n",
            "Epoch: 4/25... Step: 430... Loss: 1.7923... Val Loss: 1.8709\n",
            "Epoch: 4/25... Step: 440... Loss: 1.7785... Val Loss: 1.8557\n",
            "Epoch: 4/25... Step: 450... Loss: 1.7230... Val Loss: 1.8473\n",
            "Epoch: 4/25... Step: 460... Loss: 1.7125... Val Loss: 1.8453\n",
            "Epoch: 4/25... Step: 470... Loss: 1.7604... Val Loss: 1.8385\n",
            "Epoch: 4/25... Step: 480... Loss: 1.7410... Val Loss: 1.8271\n",
            "Epoch: 4/25... Step: 490... Loss: 1.7431... Val Loss: 1.8214\n",
            "Epoch: 4/25... Step: 500... Loss: 1.7268... Val Loss: 1.8084\n",
            "Epoch: 4/25... Step: 510... Loss: 1.7007... Val Loss: 1.8015\n",
            "Epoch: 4/25... Step: 520... Loss: 1.7141... Val Loss: 1.7938\n",
            "Epoch: 4/25... Step: 530... Loss: 1.6903... Val Loss: 1.7907\n",
            "Epoch: 4/25... Step: 540... Loss: 1.6434... Val Loss: 1.7780\n",
            "Epoch: 4/25... Step: 550... Loss: 1.7041... Val Loss: 1.7741\n",
            "Epoch: 5/25... Step: 560... Loss: 1.6678... Val Loss: 1.7726\n",
            "Epoch: 5/25... Step: 570... Loss: 1.6579... Val Loss: 1.7660\n",
            "Epoch: 5/25... Step: 580... Loss: 1.6346... Val Loss: 1.7540\n",
            "Epoch: 5/25... Step: 590... Loss: 1.6393... Val Loss: 1.7533\n",
            "Epoch: 5/25... Step: 600... Loss: 1.6318... Val Loss: 1.7475\n",
            "Epoch: 5/25... Step: 610... Loss: 1.6128... Val Loss: 1.7396\n",
            "Epoch: 5/25... Step: 620... Loss: 1.6203... Val Loss: 1.7340\n",
            "Epoch: 5/25... Step: 630... Loss: 1.6511... Val Loss: 1.7272\n",
            "Epoch: 5/25... Step: 640... Loss: 1.6081... Val Loss: 1.7196\n",
            "Epoch: 5/25... Step: 650... Loss: 1.6052... Val Loss: 1.7200\n",
            "Epoch: 5/25... Step: 660... Loss: 1.5919... Val Loss: 1.7123\n",
            "Epoch: 5/25... Step: 670... Loss: 1.6014... Val Loss: 1.7066\n",
            "Epoch: 5/25... Step: 680... Loss: 1.6090... Val Loss: 1.6993\n",
            "Epoch: 5/25... Step: 690... Loss: 1.5769... Val Loss: 1.6949\n",
            "Epoch: 6/25... Step: 700... Loss: 1.5792... Val Loss: 1.6931\n",
            "Epoch: 6/25... Step: 710... Loss: 1.5688... Val Loss: 1.6922\n",
            "Epoch: 6/25... Step: 720... Loss: 1.5505... Val Loss: 1.6793\n",
            "Epoch: 6/25... Step: 730... Loss: 1.5806... Val Loss: 1.6770\n",
            "Epoch: 6/25... Step: 740... Loss: 1.5471... Val Loss: 1.6708\n",
            "Epoch: 6/25... Step: 750... Loss: 1.5301... Val Loss: 1.6689\n",
            "Epoch: 6/25... Step: 760... Loss: 1.5688... Val Loss: 1.6656\n",
            "Epoch: 6/25... Step: 770... Loss: 1.5398... Val Loss: 1.6575\n",
            "Epoch: 6/25... Step: 780... Loss: 1.5338... Val Loss: 1.6535\n",
            "Epoch: 6/25... Step: 790... Loss: 1.5074... Val Loss: 1.6486\n",
            "Epoch: 6/25... Step: 800... Loss: 1.5473... Val Loss: 1.6426\n",
            "Epoch: 6/25... Step: 810... Loss: 1.5151... Val Loss: 1.6436\n",
            "Epoch: 6/25... Step: 820... Loss: 1.4764... Val Loss: 1.6377\n",
            "Epoch: 6/25... Step: 830... Loss: 1.5238... Val Loss: 1.6398\n",
            "Epoch: 7/25... Step: 840... Loss: 1.4875... Val Loss: 1.6327\n",
            "Epoch: 7/25... Step: 850... Loss: 1.4994... Val Loss: 1.6252\n",
            "Epoch: 7/25... Step: 860... Loss: 1.4806... Val Loss: 1.6188\n",
            "Epoch: 7/25... Step: 870... Loss: 1.4830... Val Loss: 1.6166\n",
            "Epoch: 7/25... Step: 880... Loss: 1.4917... Val Loss: 1.6148\n",
            "Epoch: 7/25... Step: 890... Loss: 1.4911... Val Loss: 1.6126\n",
            "Epoch: 7/25... Step: 900... Loss: 1.4909... Val Loss: 1.6203\n",
            "Epoch: 7/25... Step: 910... Loss: 1.4530... Val Loss: 1.6142\n",
            "Epoch: 7/25... Step: 920... Loss: 1.4786... Val Loss: 1.6075\n",
            "Epoch: 7/25... Step: 930... Loss: 1.4590... Val Loss: 1.6059\n",
            "Epoch: 7/25... Step: 940... Loss: 1.4614... Val Loss: 1.5985\n",
            "Epoch: 7/25... Step: 950... Loss: 1.4918... Val Loss: 1.6002\n",
            "Epoch: 7/25... Step: 960... Loss: 1.4718... Val Loss: 1.5912\n",
            "Epoch: 7/25... Step: 970... Loss: 1.4891... Val Loss: 1.5893\n",
            "Epoch: 8/25... Step: 980... Loss: 1.4407... Val Loss: 1.5891\n",
            "Epoch: 8/25... Step: 990... Loss: 1.4570... Val Loss: 1.5901\n",
            "Epoch: 8/25... Step: 1000... Loss: 1.4458... Val Loss: 1.5771\n",
            "Epoch: 8/25... Step: 1010... Loss: 1.4776... Val Loss: 1.5794\n",
            "Epoch: 8/25... Step: 1020... Loss: 1.4575... Val Loss: 1.5698\n",
            "Epoch: 8/25... Step: 1030... Loss: 1.4497... Val Loss: 1.5725\n",
            "Epoch: 8/25... Step: 1040... Loss: 1.4437... Val Loss: 1.5681\n",
            "Epoch: 8/25... Step: 1050... Loss: 1.4296... Val Loss: 1.5663\n",
            "Epoch: 8/25... Step: 1060... Loss: 1.4252... Val Loss: 1.5681\n",
            "Epoch: 8/25... Step: 1070... Loss: 1.4233... Val Loss: 1.5639\n",
            "Epoch: 8/25... Step: 1080... Loss: 1.4230... Val Loss: 1.5641\n",
            "Epoch: 8/25... Step: 1090... Loss: 1.4194... Val Loss: 1.5604\n",
            "Epoch: 8/25... Step: 1100... Loss: 1.4098... Val Loss: 1.5519\n",
            "Epoch: 8/25... Step: 1110... Loss: 1.4112... Val Loss: 1.5522\n",
            "Epoch: 9/25... Step: 1120... Loss: 1.4213... Val Loss: 1.5551\n",
            "Epoch: 9/25... Step: 1130... Loss: 1.4252... Val Loss: 1.5533\n",
            "Epoch: 9/25... Step: 1140... Loss: 1.4249... Val Loss: 1.5453\n",
            "Epoch: 9/25... Step: 1150... Loss: 1.4438... Val Loss: 1.5522\n",
            "Epoch: 9/25... Step: 1160... Loss: 1.3903... Val Loss: 1.5501\n",
            "Epoch: 9/25... Step: 1170... Loss: 1.4035... Val Loss: 1.5447\n",
            "Epoch: 9/25... Step: 1180... Loss: 1.3953... Val Loss: 1.5416\n",
            "Epoch: 9/25... Step: 1190... Loss: 1.4292... Val Loss: 1.5380\n",
            "Epoch: 9/25... Step: 1200... Loss: 1.3827... Val Loss: 1.5476\n",
            "Epoch: 9/25... Step: 1210... Loss: 1.3778... Val Loss: 1.5352\n",
            "Epoch: 9/25... Step: 1220... Loss: 1.3871... Val Loss: 1.5328\n",
            "Epoch: 9/25... Step: 1230... Loss: 1.3664... Val Loss: 1.5245\n",
            "Epoch: 9/25... Step: 1240... Loss: 1.3805... Val Loss: 1.5277\n",
            "Epoch: 9/25... Step: 1250... Loss: 1.3886... Val Loss: 1.5286\n",
            "Epoch: 10/25... Step: 1260... Loss: 1.3863... Val Loss: 1.5254\n",
            "Epoch: 10/25... Step: 1270... Loss: 1.3799... Val Loss: 1.5289\n",
            "Epoch: 10/25... Step: 1280... Loss: 1.3999... Val Loss: 1.5180\n",
            "Epoch: 10/25... Step: 1290... Loss: 1.3828... Val Loss: 1.5173\n",
            "Epoch: 10/25... Step: 1300... Loss: 1.3710... Val Loss: 1.5174\n",
            "Epoch: 10/25... Step: 1310... Loss: 1.3817... Val Loss: 1.5159\n",
            "Epoch: 10/25... Step: 1320... Loss: 1.3549... Val Loss: 1.5234\n",
            "Epoch: 10/25... Step: 1330... Loss: 1.3604... Val Loss: 1.5197\n",
            "Epoch: 10/25... Step: 1340... Loss: 1.3488... Val Loss: 1.5140\n",
            "Epoch: 10/25... Step: 1350... Loss: 1.3497... Val Loss: 1.5147\n",
            "Epoch: 10/25... Step: 1360... Loss: 1.3545... Val Loss: 1.5128\n",
            "Epoch: 10/25... Step: 1370... Loss: 1.3479... Val Loss: 1.5091\n",
            "Epoch: 10/25... Step: 1380... Loss: 1.3705... Val Loss: 1.5031\n",
            "Epoch: 10/25... Step: 1390... Loss: 1.3851... Val Loss: 1.5063\n",
            "Epoch: 11/25... Step: 1400... Loss: 1.3810... Val Loss: 1.5023\n",
            "Epoch: 11/25... Step: 1410... Loss: 1.4038... Val Loss: 1.4926\n",
            "Epoch: 11/25... Step: 1420... Loss: 1.3805... Val Loss: 1.4992\n",
            "Epoch: 11/25... Step: 1430... Loss: 1.3489... Val Loss: 1.4991\n",
            "Epoch: 11/25... Step: 1440... Loss: 1.3724... Val Loss: 1.5008\n",
            "Epoch: 11/25... Step: 1450... Loss: 1.3065... Val Loss: 1.5018\n",
            "Epoch: 11/25... Step: 1460... Loss: 1.3260... Val Loss: 1.5010\n",
            "Epoch: 11/25... Step: 1470... Loss: 1.3246... Val Loss: 1.5006\n",
            "Epoch: 11/25... Step: 1480... Loss: 1.3446... Val Loss: 1.4942\n",
            "Epoch: 11/25... Step: 1490... Loss: 1.3274... Val Loss: 1.4930\n",
            "Epoch: 11/25... Step: 1500... Loss: 1.3167... Val Loss: 1.4938\n",
            "Epoch: 11/25... Step: 1510... Loss: 1.3043... Val Loss: 1.4897\n",
            "Epoch: 11/25... Step: 1520... Loss: 1.3328... Val Loss: 1.4852\n",
            "Epoch: 12/25... Step: 1530... Loss: 1.3814... Val Loss: 1.4877\n",
            "Epoch: 12/25... Step: 1540... Loss: 1.3433... Val Loss: 1.4859\n",
            "Epoch: 12/25... Step: 1550... Loss: 1.3461... Val Loss: 1.4836\n",
            "Epoch: 12/25... Step: 1560... Loss: 1.3519... Val Loss: 1.4898\n",
            "Epoch: 12/25... Step: 1570... Loss: 1.3098... Val Loss: 1.4845\n",
            "Epoch: 12/25... Step: 1580... Loss: 1.2854... Val Loss: 1.4821\n",
            "Epoch: 12/25... Step: 1590... Loss: 1.2990... Val Loss: 1.4802\n",
            "Epoch: 12/25... Step: 1600... Loss: 1.3070... Val Loss: 1.4782\n",
            "Epoch: 12/25... Step: 1610... Loss: 1.2993... Val Loss: 1.4804\n",
            "Epoch: 12/25... Step: 1620... Loss: 1.3018... Val Loss: 1.4811\n",
            "Epoch: 12/25... Step: 1630... Loss: 1.3281... Val Loss: 1.4815\n",
            "Epoch: 12/25... Step: 1640... Loss: 1.3080... Val Loss: 1.4824\n",
            "Epoch: 12/25... Step: 1650... Loss: 1.2788... Val Loss: 1.4748\n",
            "Epoch: 12/25... Step: 1660... Loss: 1.3312... Val Loss: 1.4718\n",
            "Epoch: 13/25... Step: 1670... Loss: 1.3007... Val Loss: 1.4746\n",
            "Epoch: 13/25... Step: 1680... Loss: 1.3148... Val Loss: 1.4754\n",
            "Epoch: 13/25... Step: 1690... Loss: 1.3003... Val Loss: 1.4750\n",
            "Epoch: 13/25... Step: 1700... Loss: 1.2974... Val Loss: 1.4680\n",
            "Epoch: 13/25... Step: 1710... Loss: 1.2709... Val Loss: 1.4723\n",
            "Epoch: 13/25... Step: 1720... Loss: 1.2926... Val Loss: 1.4792\n",
            "Epoch: 13/25... Step: 1730... Loss: 1.3183... Val Loss: 1.4704\n",
            "Epoch: 13/25... Step: 1740... Loss: 1.2883... Val Loss: 1.4660\n",
            "Epoch: 13/25... Step: 1750... Loss: 1.2564... Val Loss: 1.4673\n",
            "Epoch: 13/25... Step: 1760... Loss: 1.2877... Val Loss: 1.4680\n",
            "Epoch: 13/25... Step: 1770... Loss: 1.3136... Val Loss: 1.4572\n",
            "Epoch: 13/25... Step: 1780... Loss: 1.2865... Val Loss: 1.4728\n",
            "Epoch: 13/25... Step: 1790... Loss: 1.2605... Val Loss: 1.4706\n",
            "Epoch: 13/25... Step: 1800... Loss: 1.2824... Val Loss: 1.4676\n",
            "Epoch: 14/25... Step: 1810... Loss: 1.2975... Val Loss: 1.4724\n",
            "Epoch: 14/25... Step: 1820... Loss: 1.2917... Val Loss: 1.4768\n",
            "Epoch: 14/25... Step: 1830... Loss: 1.3108... Val Loss: 1.4601\n",
            "Epoch: 14/25... Step: 1840... Loss: 1.2460... Val Loss: 1.4567\n",
            "Epoch: 14/25... Step: 1850... Loss: 1.2463... Val Loss: 1.4592\n",
            "Epoch: 14/25... Step: 1860... Loss: 1.2891... Val Loss: 1.4622\n",
            "Epoch: 14/25... Step: 1870... Loss: 1.3087... Val Loss: 1.4590\n",
            "Epoch: 14/25... Step: 1880... Loss: 1.2982... Val Loss: 1.4545\n",
            "Epoch: 14/25... Step: 1890... Loss: 1.2919... Val Loss: 1.4577\n",
            "Epoch: 14/25... Step: 1900... Loss: 1.2735... Val Loss: 1.4527\n",
            "Epoch: 14/25... Step: 1910... Loss: 1.2662... Val Loss: 1.4510\n",
            "Epoch: 14/25... Step: 1920... Loss: 1.2880... Val Loss: 1.4600\n",
            "Epoch: 14/25... Step: 1930... Loss: 1.2468... Val Loss: 1.4544\n",
            "Epoch: 14/25... Step: 1940... Loss: 1.2955... Val Loss: 1.4450\n",
            "Epoch: 15/25... Step: 1950... Loss: 1.2658... Val Loss: 1.4458\n",
            "Epoch: 15/25... Step: 1960... Loss: 1.2667... Val Loss: 1.4510\n",
            "Epoch: 15/25... Step: 1970... Loss: 1.2706... Val Loss: 1.4436\n",
            "Epoch: 15/25... Step: 1980... Loss: 1.2535... Val Loss: 1.4417\n",
            "Epoch: 15/25... Step: 1990... Loss: 1.2461... Val Loss: 1.4487\n",
            "Epoch: 15/25... Step: 2000... Loss: 1.2486... Val Loss: 1.4494\n",
            "Epoch: 15/25... Step: 2010... Loss: 1.2669... Val Loss: 1.4441\n",
            "Epoch: 15/25... Step: 2020... Loss: 1.2702... Val Loss: 1.4422\n",
            "Epoch: 15/25... Step: 2030... Loss: 1.2420... Val Loss: 1.4428\n",
            "Epoch: 15/25... Step: 2040... Loss: 1.2570... Val Loss: 1.4459\n",
            "Epoch: 15/25... Step: 2050... Loss: 1.2501... Val Loss: 1.4372\n",
            "Epoch: 15/25... Step: 2060... Loss: 1.2566... Val Loss: 1.4357\n",
            "Epoch: 15/25... Step: 2070... Loss: 1.2519... Val Loss: 1.4380\n",
            "Epoch: 15/25... Step: 2080... Loss: 1.2433... Val Loss: 1.4311\n",
            "Epoch: 16/25... Step: 2090... Loss: 1.2731... Val Loss: 1.4379\n",
            "Epoch: 16/25... Step: 2100... Loss: 1.2507... Val Loss: 1.4302\n",
            "Epoch: 16/25... Step: 2110... Loss: 1.2280... Val Loss: 1.4394\n",
            "Epoch: 16/25... Step: 2120... Loss: 1.2599... Val Loss: 1.4363\n",
            "Epoch: 16/25... Step: 2130... Loss: 1.2248... Val Loss: 1.4402\n",
            "Epoch: 16/25... Step: 2140... Loss: 1.2433... Val Loss: 1.4453\n",
            "Epoch: 16/25... Step: 2150... Loss: 1.2670... Val Loss: 1.4411\n",
            "Epoch: 16/25... Step: 2160... Loss: 1.2397... Val Loss: 1.4349\n",
            "Epoch: 16/25... Step: 2170... Loss: 1.2417... Val Loss: 1.4423\n",
            "Epoch: 16/25... Step: 2180... Loss: 1.2503... Val Loss: 1.4361\n",
            "Epoch: 16/25... Step: 2190... Loss: 1.2586... Val Loss: 1.4322\n",
            "Epoch: 16/25... Step: 2200... Loss: 1.2306... Val Loss: 1.4283\n",
            "Epoch: 16/25... Step: 2210... Loss: 1.2010... Val Loss: 1.4268\n",
            "Epoch: 16/25... Step: 2220... Loss: 1.2386... Val Loss: 1.4279\n",
            "Epoch: 17/25... Step: 2230... Loss: 1.2182... Val Loss: 1.4284\n",
            "Epoch: 17/25... Step: 2240... Loss: 1.2281... Val Loss: 1.4227\n"
          ],
          "name": "stdout"
        }
      ]
    },
    {
      "cell_type": "markdown",
      "metadata": {
        "id": "h5SUyXrtiP-N",
        "colab_type": "text"
      },
      "source": [
        "## Getting the best model\n",
        "\n",
        "To set your hyperparameters to get the best performance, you'll want to watch the training and validation losses. If your training loss is much lower than the validation loss, you're overfitting. Increase regularization (more dropout) or use a smaller network. If the training and validation losses are close, you're underfitting so you can increase the size of the network."
      ]
    },
    {
      "cell_type": "markdown",
      "metadata": {
        "id": "QxnqJ-VKiP-O",
        "colab_type": "text"
      },
      "source": [
        "## Hyperparameters\n",
        "\n",
        "Here are the hyperparameters for the network.\n",
        "\n",
        "In defining the model:\n",
        "* `n_hidden` - The number of units in the hidden layers.\n",
        "* `n_layers` - Number of hidden LSTM layers to use.\n",
        "\n",
        "We assume that dropout probability and learning rate will be kept at the default, in this example.\n",
        "\n",
        "And in training:\n",
        "* `n_seqs` - Number of sequences running through the network in one pass.\n",
        "* `n_steps` - Number of characters in the sequence the network is trained on. Larger is better typically, the network will learn more long range dependencies. But it takes longer to train. 100 is typically a good number here.\n",
        "* `lr` - Learning rate for training\n",
        "\n",
        "Here's some good advice from Andrej Karpathy on training the network. I'm going to copy it in here for your benefit, but also link to [where it originally came from](https://github.com/karpathy/char-rnn#tips-and-tricks).\n",
        "\n",
        "> ## Tips and Tricks\n",
        "\n",
        ">### Monitoring Validation Loss vs. Training Loss\n",
        ">If you're somewhat new to Machine Learning or Neural Networks it can take a bit of expertise to get good models. The most important quantity to keep track of is the difference between your training loss (printed during training) and the validation loss (printed once in a while when the RNN is run on the validation data (by default every 1000 iterations)). In particular:\n",
        "\n",
        "> - If your training loss is much lower than validation loss then this means the network might be **overfitting**. Solutions to this are to decrease your network size, or to increase dropout. For example you could try dropout of 0.5 and so on.\n",
        "> - If your training/validation loss are about equal then your model is **underfitting**. Increase the size of your model (either number of layers or the raw number of neurons per layer)\n",
        "\n",
        "> ### Approximate number of parameters\n",
        "\n",
        "> The two most important parameters that control the model are `n_hidden` and `n_layers`. I would advise that you always use `n_layers` of either 2/3. The `n_hidden` can be adjusted based on how much data you have. The two important quantities to keep track of here are:\n",
        "\n",
        "> - The number of parameters in your model. This is printed when you start training.\n",
        "> - The size of your dataset. 1MB file is approximately 1 million characters.\n",
        "\n",
        ">These two should be about the same order of magnitude. It's a little tricky to tell. Here are some examples:\n",
        "\n",
        "> - I have a 100MB dataset and I'm using the default parameter settings (which currently print 150K parameters). My data size is significantly larger (100 mil >> 0.15 mil), so I expect to heavily underfit. I am thinking I can comfortably afford to make `n_hidden` larger.\n",
        "> - I have a 10MB dataset and running a 10 million parameter model. I'm slightly nervous and I'm carefully monitoring my validation loss. If it's larger than my training loss then I may want to try to increase dropout a bit and see if that helps the validation loss.\n",
        "\n",
        "> ### Best models strategy\n",
        "\n",
        ">The winning strategy to obtaining very good models (if you have the compute time) is to always err on making the network larger (as large as you're willing to wait for it to compute) and then try different dropout values (between 0,1). Whatever model has the best validation performance (the loss, written in the checkpoint filename, low is good) is the one you should use in the end.\n",
        "\n",
        ">It is very common in deep learning to run many different models with many different hyperparameter settings, and in the end take whatever checkpoint gave the best validation performance.\n",
        "\n",
        ">By the way, the size of your training and validation splits are also parameters. Make sure you have a decent amount of data in your validation set or otherwise the validation performance will be noisy and not very informative."
      ]
    },
    {
      "cell_type": "markdown",
      "metadata": {
        "id": "fehS3yh1iP-P",
        "colab_type": "text"
      },
      "source": [
        "After training, we'll save the model so we can load it again later if we need too. Here I'm saving the parameters needed to create the same architecture, the hidden layer hyperparameters and the text characters."
      ]
    },
    {
      "cell_type": "code",
      "metadata": {
        "id": "2PySaRLIiP-R",
        "colab_type": "code",
        "colab": {}
      },
      "source": [
        "# change the name, for saving multiple files\n",
        "model_name = 'rnn_1_epoch.net'\n",
        "\n",
        "checkpoint = {'n_hidden': net.n_hidden,\n",
        "              'n_layers': net.n_layers,\n",
        "              'state_dict': net.state_dict(),\n",
        "              'tokens': net.chars}\n",
        "\n",
        "with open(model_name, 'wb') as f:\n",
        "    torch.save(checkpoint, f)"
      ],
      "execution_count": 0,
      "outputs": []
    },
    {
      "cell_type": "markdown",
      "metadata": {
        "id": "Wpp4JxopiP-U",
        "colab_type": "text"
      },
      "source": [
        "## Sampling\n",
        "\n",
        "Now that the model is trained, we'll want to sample from it. To sample, we pass in a character and have the network predict the next character. Then we take that character, pass it back in, and get another predicted character. Just keep doing this and you'll generate a bunch of text!\n",
        "\n",
        "### Top K sampling\n",
        "\n",
        "Our predictions come from a categorcial probability distribution over all the possible characters. We can make the sample text and make it more reasonable to handle (with less variables) by only considering some $K$ most probable characters. This will prevent the network from giving us completely absurd characters while allowing it to introduce some noise and randomness into the sampled text.\n",
        "\n",
        "Typically you'll want to prime the network so you can build up a hidden state. Otherwise the network will start out generating characters at random. In general the first bunch of characters will be a little rough since it hasn't built up a long history of characters to predict from."
      ]
    },
    {
      "cell_type": "code",
      "metadata": {
        "id": "lQxhQSOhiP-W",
        "colab_type": "code",
        "colab": {}
      },
      "source": [
        "def sample(net, size, prime='The', top_k=None, cuda=False):\n",
        "        \n",
        "    if cuda:\n",
        "        net.cuda()\n",
        "    else:\n",
        "        net.cpu()\n",
        "\n",
        "    net.eval()\n",
        "    \n",
        "    # First off, run through the prime characters\n",
        "    chars = [ch for ch in prime]\n",
        "    \n",
        "    h = net.init_hidden(1)\n",
        "    \n",
        "    for ch in prime:\n",
        "        char, h = net.predict(ch, h, cuda=cuda, top_k=top_k)\n",
        "\n",
        "    chars.append(char)\n",
        "    \n",
        "    # Now pass in the previous character and get a new one\n",
        "    for ii in range(size):\n",
        "        \n",
        "        char, h = net.predict(chars[-1], h, cuda=cuda, top_k=top_k)\n",
        "        chars.append(char)\n",
        "\n",
        "    return ''.join(chars)"
      ],
      "execution_count": 0,
      "outputs": []
    },
    {
      "cell_type": "code",
      "metadata": {
        "id": "KOBWTxA7iP-b",
        "colab_type": "code",
        "colab": {},
        "outputId": "fca18374-0117-403e-c82d-3210009aea19"
      },
      "source": [
        "print(sample(net, 2000, prime='Anna', top_k=5, cuda=True))"
      ],
      "execution_count": 0,
      "outputs": [
        {
          "output_type": "stream",
          "text": [
            "Anna, who was silent to\n",
            "her. He was thank of the strong, and as he had been some operally\n",
            "doubts, and that she should say that he was already\n",
            "abread and say to her.\n",
            "\n",
            "\"Who was stord from the same wise, that's horrifly a forgiveness and\n",
            "doctry, but I was asleep, but in the silence.\n",
            "\n",
            "\"You want at the calmes, we look one as it is.\"\n",
            "\n",
            "\"I addite you told her that he has a spiritual sings interests in him, but\n",
            "to be already, I was a fellow, and this instant of any man seemed that\n",
            "he had not been settled in whom the position overchoked it. He sat down. She\n",
            "stopped the plans that his hand was in a man to set those opinions\n",
            "of this secret of the dressing clerk.\"\n",
            "\n",
            "\"There is it! Why not interested me! That we suppose you and the peasants\n",
            "who should have brought you to have me such time for her, shall be now,\n",
            "and I have sent all the people of the point is to brang through him and say\n",
            "shake, the commune is not in high soul and moving free, and all that\n",
            "had been some silence, and a string of the children are to do in\n",
            "the place. It will be taken away.\n",
            "\n",
            "\n",
            "\n",
            "Chapter 22\n",
            "\n",
            "\n",
            "\"What a place yes, you wouldn't have suffered that the cape to spoiled. To be\n",
            "angry, which has brother of the same, but this. When you see, I'm very\n",
            "sleep, and it can't be still to be the truth, but this was the\n",
            "conversation was to be in lead of meeting me!\" said the princess.\n",
            "\n",
            "\"You can't take him to me and more to say there,\" he said, addressing\n",
            "Anna, whom he had stopped. The prince, smiling.\n",
            "\n",
            "\"I have said a strong than the countish who won't be seen...\"\n",
            "\n",
            "\"What do you think so? It's no sell-boudders? We said a girl\n",
            "imagined from you, but they're surrounding the children are true, in his\n",
            "forting a point and dong where you are not in such a strange to see her\n",
            "angry and destraining about more and time to be darringed out. I am going in the\n",
            "way of it, but I don't know it. And how save the pleasure of some through\n",
            "and so its lights and the course, I don't look at my honor.\"\n",
            "\n",
            "As soon as he said it was hand at the theater, and tha\n"
          ],
          "name": "stdout"
        }
      ]
    },
    {
      "cell_type": "markdown",
      "metadata": {
        "id": "NmWq7bcriP-d",
        "colab_type": "text"
      },
      "source": [
        "## Loading a checkpoint"
      ]
    },
    {
      "cell_type": "code",
      "metadata": {
        "id": "-gGMZxsviP-e",
        "colab_type": "code",
        "colab": {}
      },
      "source": [
        "# Here we have loaded in a model that trained over 1 epoch `rnn_1_epoch.net`\n",
        "with open('rnn_1_epoch.net', 'rb') as f:\n",
        "    checkpoint = torch.load(f)\n",
        "    \n",
        "loaded = CharRNN(checkpoint['tokens'], n_hidden=checkpoint['n_hidden'], n_layers=checkpoint['n_layers'])\n",
        "loaded.load_state_dict(checkpoint['state_dict'])"
      ],
      "execution_count": 0,
      "outputs": []
    },
    {
      "cell_type": "code",
      "metadata": {
        "id": "y-GqVZCdiP-i",
        "colab_type": "code",
        "colab": {},
        "outputId": "e3b55563-effc-49a1-97d8-9bd735da520a"
      },
      "source": [
        "# Change cuda to True if you are using GPU!\n",
        "print(sample(loaded, 2000, cuda=True, top_k=5, prime=\"And Levin said\"))"
      ],
      "execution_count": 0,
      "outputs": [
        {
          "output_type": "stream",
          "text": [
            "And Levin said in\n",
            "the sintle bill, she could not hear still sort of her tone\n",
            "on the pleasure on the study. He was too at the side of him. The\n",
            "crack was to the man and all at her feels to him, and three men and all\n",
            "surerses, and secretity of his wife, that he was the sons of the passion, and\n",
            "her soul, and had never disliked in the figure of his still at the\n",
            "countess, was the steps of which he was continually, and so as not a special\n",
            "companion to a smile. \"How come to my here. It's sitting only both having a\n",
            "lovely the tears on her feeling on this matter. What is a letter to\n",
            "stay to the table,\" and was a glad to be a sorry with him in\n",
            "her friend when he was taken, and the sense, half always all\n",
            "propined as the still, while there would be begun and what\n",
            "sometimes thinking of a sense of supprossed as at her fore. And he\n",
            "saw that she was saying. All these pretensing the taske of agrecity.\n",
            "Alexey Alexandrovitch, where shining smile talked at the simplest time\n",
            "where she had severely distanced that the music she doubted them.\n",
            "\n",
            "The delicious days already filled them, and told the talls. At her master\n",
            "and hard successful, and whisper, and so hourding him a soft, so mitted himself, and\n",
            "still that she was trateful to her. The desire talked as happy. It was never and\n",
            "from the children somewhere troubled the part of some trace.\n",
            "\n",
            "Anna went out in the clands to stat her house, and all the conversation\n",
            "at once to be settled and does not think of it. Then why he did not\n",
            "care for her, and then was a lift was of which though as to the stream\n",
            "of some sister had see it, and at that moment several times all stranged of\n",
            "the peasant who had been better never to bring him the charm as that had she humbled\n",
            "and true to the characters, and with a smile at the table. \"What do you want to\n",
            "go as man, and. All this man's more, and I did not care it. And the\n",
            "doctors such put him in the presence of hard, and there were no orders and\n",
            "misfortune to my thoughts, bus to movements, that, alone we've been true. How\n",
            "help \n"
          ],
          "name": "stdout"
        }
      ]
    },
    {
      "cell_type": "code",
      "metadata": {
        "id": "bu1HO4yIiP-l",
        "colab_type": "code",
        "colab": {}
      },
      "source": [
        ""
      ],
      "execution_count": 0,
      "outputs": []
    }
  ]
}