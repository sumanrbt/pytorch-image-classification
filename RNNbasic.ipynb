{
  "nbformat": 4,
  "nbformat_minor": 0,
  "metadata": {
    "colab": {
      "name": "RNNbasic.ipynb",
      "provenance": [],
      "collapsed_sections": [],
      "include_colab_link": true
    },
    "kernelspec": {
      "name": "python3",
      "display_name": "Python 3"
    }
  },
  "cells": [
    {
      "cell_type": "markdown",
      "metadata": {
        "id": "view-in-github",
        "colab_type": "text"
      },
      "source": [
        "<a href=\"https://colab.research.google.com/github/sumanrbt/pytorch-practice/blob/master/RNNbasic.ipynb\" target=\"_parent\"><img src=\"https://colab.research.google.com/assets/colab-badge.svg\" alt=\"Open In Colab\"/></a>"
      ]
    },
    {
      "cell_type": "code",
      "metadata": {
        "id": "43HVyfnTSkWN",
        "colab_type": "code",
        "colab": {}
      },
      "source": [
        "import torch\n",
        "from torch import nn\n",
        "from torch.autograd import Variable\n",
        "\n"
      ],
      "execution_count": 0,
      "outputs": []
    },
    {
      "cell_type": "code",
      "metadata": {
        "id": "gfsB9EjITICl",
        "colab_type": "code",
        "outputId": "52960d92-a0cb-412d-bcb3-383b9c73aa39",
        "colab": {
          "base_uri": "https://localhost:8080/",
          "height": 35
        }
      },
      "source": [
        "lstm = nn.LSTM(4, 4,batch_first=True)\n",
        "print(lstm.weight_hh_l0.shape)"
      ],
      "execution_count": 0,
      "outputs": [
        {
          "output_type": "stream",
          "text": [
            "torch.Size([16, 4])\n"
          ],
          "name": "stdout"
        }
      ]
    },
    {
      "cell_type": "code",
      "metadata": {
        "id": "XWEy-AsagYUi",
        "colab_type": "code",
        "colab": {}
      },
      "source": [
        ""
      ],
      "execution_count": 0,
      "outputs": []
    },
    {
      "cell_type": "code",
      "metadata": {
        "id": "XLGZXMmFZM01",
        "colab_type": "code",
        "colab": {}
      },
      "source": [
        "class Model(nn.Module):\n",
        "    def __init__(self,batch_size=1,num_classes=5,\n",
        "                 input_size=5,hidden_size=5,seq_len=1,num_layers=1):\n",
        "        super(Model,self).__init__()\n",
        "        self.lstm=nn.LSTM(5,5,batch_first=True)\n",
        "        self.batch_size=batch_size\n",
        "        self.num_classes=num_classes\n",
        "        self.input_size=input_size\n",
        "        self.hidden_size=hidden_size\n",
        "        self.seq_len=seq_len\n",
        "        self.num_layers=num_layers\n",
        "\n",
        "    def forward(self,x,hidden):\n",
        "        x=x.view(batch_size,seq_len,input_size)\n",
        "        out,hidden=self.lstm(x,hidden)\n",
        "        return out,hidden\n",
        "        "
      ],
      "execution_count": 0,
      "outputs": []
    },
    {
      "cell_type": "code",
      "metadata": {
        "id": "FooTrdXMu-qi",
        "colab_type": "code",
        "outputId": "ec57208a-db6e-4b95-a018-5e57360057ea",
        "colab": {
          "base_uri": "https://localhost:8080/",
          "height": 295
        }
      },
      "source": [
        "\n",
        "char=[\"H\",\"I\",\"E\",\"L\",\"O\",]\n",
        "import numpy as np\n",
        "#print(char2int)\n",
        "def OneHotEncode(char,chars,n_labels):\n",
        "    char2int={inn:char for char,inn in enumerate(chars)}\n",
        "    a=np.zeros(n_labels)\n",
        "    a[char2int[char]]=1\n",
        "    return a\n",
        "print(OneHotEncode(\"H\",char,len(char)))\n",
        "inputs=torch.Tensor([OneHotEncode(l,char,len(char)) for l in [\"H\",\"I\",\"H\",\"E\",\"L\",\"L\"] ]).view(1,6,5)\n",
        "y_label=torch.Tensor([OneHotEncode(l,char,len(char)) for l in [\"I\",\"H\",\"E\",\"L\",\"L\",\"O\"] ]).view(1,6,5)\n",
        "print(\"inputs\\n\",inputs,\"\\n\\n\\n\",y_label)\n"
      ],
      "execution_count": 0,
      "outputs": [
        {
          "output_type": "stream",
          "text": [
            "[1. 0. 0. 0. 0.]\n",
            "inputs\n",
            " tensor([[[1., 0., 0., 0., 0.],\n",
            "         [0., 1., 0., 0., 0.],\n",
            "         [1., 0., 0., 0., 0.],\n",
            "         [0., 0., 1., 0., 0.],\n",
            "         [0., 0., 0., 1., 0.],\n",
            "         [0., 0., 0., 1., 0.]]]) \n",
            "\n",
            "\n",
            " tensor([[[0., 1., 0., 0., 0.],\n",
            "         [1., 0., 0., 0., 0.],\n",
            "         [0., 0., 1., 0., 0.],\n",
            "         [0., 0., 0., 1., 0.],\n",
            "         [0., 0., 0., 1., 0.],\n",
            "         [0., 0., 0., 0., 1.]]])\n"
          ],
          "name": "stdout"
        }
      ]
    },
    {
      "cell_type": "code",
      "metadata": {
        "id": "RS2wCxGLt4jJ",
        "colab_type": "code",
        "colab": {}
      },
      "source": [
        "model=Model()"
      ],
      "execution_count": 0,
      "outputs": []
    },
    {
      "cell_type": "code",
      "metadata": {
        "id": "rlX4YGQyt-cW",
        "colab_type": "code",
        "outputId": "12dde1a7-f119-44c0-e95b-f4d07164cebf",
        "colab": {
          "base_uri": "https://localhost:8080/",
          "height": 35
        }
      },
      "source": [
        "hidden = (torch.randn(1, 1, 5),torch.randn(1, 1, 5))\n",
        "s=inputs[0]\n",
        "\n",
        "print(s[0])\n",
        "out,hidden=model.forward(s[0],hidden)"
      ],
      "execution_count": 0,
      "outputs": [
        {
          "output_type": "stream",
          "text": [
            "tensor([1., 0., 0., 0., 0.])\n"
          ],
          "name": "stdout"
        }
      ]
    },
    {
      "cell_type": "code",
      "metadata": {
        "id": "C8YOBBs4ub-k",
        "colab_type": "code",
        "outputId": "6c82f185-2400-4066-c66d-7d8448f3dc0f",
        "colab": {
          "base_uri": "https://localhost:8080/",
          "height": 52
        }
      },
      "source": [
        "print(out)"
      ],
      "execution_count": 0,
      "outputs": [
        {
          "output_type": "stream",
          "text": [
            "tensor([[[-0.1919, -0.3889, -0.0182,  0.1602,  0.2346]]],\n",
            "       grad_fn=<TransposeBackward0>)\n"
          ],
          "name": "stdout"
        }
      ]
    },
    {
      "cell_type": "code",
      "metadata": {
        "id": "SRF5d9pVyCLe",
        "colab_type": "code",
        "colab": {}
      },
      "source": [
        ""
      ],
      "execution_count": 0,
      "outputs": []
    }
  ]
}